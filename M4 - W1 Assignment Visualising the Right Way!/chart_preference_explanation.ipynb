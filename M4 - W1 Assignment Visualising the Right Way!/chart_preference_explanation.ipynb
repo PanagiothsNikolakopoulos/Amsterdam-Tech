{
 "cells": [
  {
   "cell_type": "code",
   "execution_count": 1,
   "id": "8fda871d",
   "metadata": {},
   "outputs": [
    {
     "ename": "SyntaxError",
     "evalue": "invalid syntax (3731919403.py, line 1)",
     "output_type": "error",
     "traceback": [
      "\u001b[1;36m  Cell \u001b[1;32mIn[1], line 1\u001b[1;36m\u001b[0m\n\u001b[1;33m    In my opinion, the second graph is superior to the first.\u001b[0m\n\u001b[1;37m       ^\u001b[0m\n\u001b[1;31mSyntaxError\u001b[0m\u001b[1;31m:\u001b[0m invalid syntax\n"
     ]
    }
   ],
   "source": [
    "In my opinion, the second graph is superior to the first. \n",
    "Although the first graph displays two lines - one blue and one red - that illustrate the overall trend,\n",
    "it lacks accuracy due to imprecise data points.\n",
    "This is because the x-axis denotes the date of the vote and the y-axis shows the number of people who voted \"right\" or \"wrong\",\n",
    "which were then connected to form the lines. While this may convey the outcome of the vote,\n",
    "it overlooks specific details.\n",
    "\n",
    "On the other hand, the second graph presents a more precise depiction by featuring separate blue and red dots for each data point.\n",
    "This allows for a clearer understanding of how many people voted \"right\" or \"wrong\" on each date.\n",
    "Additionally, the two trend lines - one blue and one red - provide an indication of the general opinion on Brexit over time."
   ]
  },
  {
   "cell_type": "code",
   "execution_count": null,
   "id": "049ccc8c",
   "metadata": {},
   "outputs": [],
   "source": []
  }
 ],
 "metadata": {
  "kernelspec": {
   "display_name": "Python 3 (ipykernel)",
   "language": "python",
   "name": "python3"
  },
  "language_info": {
   "codemirror_mode": {
    "name": "ipython",
    "version": 3
   },
   "file_extension": ".py",
   "mimetype": "text/x-python",
   "name": "python",
   "nbconvert_exporter": "python",
   "pygments_lexer": "ipython3",
   "version": "3.11.0"
  }
 },
 "nbformat": 4,
 "nbformat_minor": 5
}
